{
 "cells": [
  {
   "cell_type": "markdown",
   "id": "7a606961",
   "metadata": {},
   "source": [
    "# Monty Hall Problem\n",
    "## Przykład wykorzystania sieć bayesowska do problemu z programu 'Monty Hall'\n",
    "### Program Monty Hall\n",
    "Uczestnik programu wybiera jedne z trzech drzwi - za tylko jedną jest nagroda. Prowadzący programu wybiera jedną z Gracz może pozostać przy swoim wyborze, bądź wybrać drugie drzwi. Nieintuicyjnie zawsze lepiej zmienić swój wybór i to spróbujemy sprawdzić za pomocą sieci bayesowkiej."
   ]
  },
  {
   "cell_type": "markdown",
   "id": "f5244bd8",
   "metadata": {},
   "source": [
    "### Importy\n",
    "Korzystamy z biblioteki pgmpy"
   ]
  },
  {
   "cell_type": "code",
   "execution_count": 6,
   "id": "47309d14",
   "metadata": {},
   "outputs": [],
   "source": [
    "import pgmpy.models\n",
    "import pgmpy.inference\n",
    "import networkx as nx\n",
    "import pylab as plt"
   ]
  },
  {
   "cell_type": "markdown",
   "id": "9bbfe548",
   "metadata": {},
   "source": [
    "### Model\n",
    "Tworzymy sieć bayesowską - zakładamy, że prawdopodobieństwo nagrody w każdych drzwiach jest równe ~1/3. "
   ]
  },
  {
   "cell_type": "code",
   "execution_count": 9,
   "id": "e2499920",
   "metadata": {},
   "outputs": [
    {
     "name": "stdout",
     "output_type": "stream",
     "text": [
      "Poprawność modelu:  Tak\n"
     ]
    }
   ],
   "source": [
    "model = pgmpy.models.BayesianNetwork([('Gość', 'Monty'), \n",
    "                                    ('Nagroda', 'Monty')])\n",
    "cpd_guest = pgmpy.factors.discrete.TabularCPD('Gość', 3, [[0.33], [0.33], [0.33]])\n",
    "cpd_price = pgmpy.factors.discrete.TabularCPD('Nagroda', 3, [[0.33], [0.33], [0.33]])\n",
    "cpd_monty = pgmpy.factors.discrete.TabularCPD('Monty', 3, [[0, 0, 0, 0, 0.5, 1, 0, 1, 0.5], \n",
    "                                                           [0.5, 0, 1, 0, 0, 0, 1, 0, 0.5], \n",
    "                                                           [0.5, 1, 0, 1, 0.5, 0, 0, 0, 0]], \n",
    "                                              evidence=['Guest', 'Price'], \n",
    "                                              evidence_card=[3, 3])\n",
    "model.add_cpds(cpd_guest, cpd_price, cpd_monty)\n",
    "print(\"Poprawność modelu: \", \"Tak\" if model.check_model() else \"Nie\")"
   ]
  },
  {
   "cell_type": "code",
   "execution_count": 10,
   "id": "88eca8c5",
   "metadata": {},
   "outputs": [
    {
     "name": "stdout",
     "output_type": "stream",
     "text": [
      "Probability distribution, P(Guest)\n",
      "+----------+------+\n",
      "| Guest(0) | 0.33 |\n",
      "+----------+------+\n",
      "| Guest(1) | 0.33 |\n",
      "+----------+------+\n",
      "| Guest(2) | 0.33 |\n",
      "+----------+------+\n",
      "\n",
      "Probability distribution, P(Price)\n",
      "+----------+------+\n",
      "| Price(0) | 0.33 |\n",
      "+----------+------+\n",
      "| Price(1) | 0.33 |\n",
      "+----------+------+\n",
      "| Price(2) | 0.33 |\n",
      "+----------+------+\n",
      "\n",
      "Joint probability distribution, P(Monty | Guest, Price)\n",
      "+----------+----------+----------+-----+----------+----------+----------+\n",
      "| Guest    | Guest(0) | Guest(0) | ... | Guest(2) | Guest(2) | Guest(2) |\n",
      "+----------+----------+----------+-----+----------+----------+----------+\n",
      "| Price    | Price(0) | Price(1) | ... | Price(0) | Price(1) | Price(2) |\n",
      "+----------+----------+----------+-----+----------+----------+----------+\n",
      "| Monty(0) | 0.0      | 0.0      | ... | 0.0      | 1.0      | 0.5      |\n",
      "+----------+----------+----------+-----+----------+----------+----------+\n",
      "| Monty(1) | 0.5      | 0.0      | ... | 1.0      | 0.0      | 0.5      |\n",
      "+----------+----------+----------+-----+----------+----------+----------+\n",
      "| Monty(2) | 0.5      | 1.0      | ... | 0.0      | 0.0      | 0.0      |\n",
      "+----------+----------+----------+-----+----------+----------+----------+\n",
      "\n"
     ]
    },
    {
     "data": {
      "application/vnd.jupyter.widget-view+json": {
       "model_id": "94da746909f54a01ba83934441938ce9",
       "version_major": 2,
       "version_minor": 0
      },
      "text/plain": [
       "0it [00:00, ?it/s]"
      ]
     },
     "metadata": {},
     "output_type": "display_data"
    },
    {
     "data": {
      "application/vnd.jupyter.widget-view+json": {
       "model_id": "f743b1244a214474b83788254ded1093",
       "version_major": 2,
       "version_minor": 0
      },
      "text/plain": [
       "0it [00:00, ?it/s]"
      ]
     },
     "metadata": {},
     "output_type": "display_data"
    },
    {
     "name": "stdout",
     "output_type": "stream",
     "text": [
      "Posterior probability, Guest(0) and Monty(2)\n",
      "+----------+--------------+\n",
      "| Price    |   phi(Price) |\n",
      "+==========+==============+\n",
      "| Price(0) |       0.3333 |\n",
      "+----------+--------------+\n",
      "| Price(1) |       0.6667 |\n",
      "+----------+--------------+\n",
      "| Price(2) |       0.0000 |\n",
      "+----------+--------------+\n",
      "\n"
     ]
    }
   ],
   "source": [
    "print('Prawdopodobieństwo wylosowania , P(Gość)')\n",
    "print(cpd_guest)\n",
    "print()\n",
    "print('Probability distribution, P(Nagroda)')\n",
    "print(cpd_price)\n",
    "print()\n",
    "print('Joint probability distribution, P(Monty | Guest, Price)')\n",
    "print(cpd_monty)\n",
    "print()\n",
    "\n",
    "\n",
    "infer = pgmpy.inference.VariableElimination(model)\n",
    "posterior_probability = infer.query(['Price'], evidence={'Guest': 0, 'Monty': 2})\n",
    "print('Posterior probability, Guest(0) and Monty(2)')\n",
    "print(posterior_probability)\n",
    "print()"
   ]
  },
  {
   "cell_type": "code",
   "execution_count": null,
   "id": "62ae8c70",
   "metadata": {},
   "outputs": [],
   "source": []
  }
 ],
 "metadata": {
  "kernelspec": {
   "display_name": "env",
   "language": "python",
   "name": "env"
  },
  "language_info": {
   "codemirror_mode": {
    "name": "ipython",
    "version": 3
   },
   "file_extension": ".py",
   "mimetype": "text/x-python",
   "name": "python",
   "nbconvert_exporter": "python",
   "pygments_lexer": "ipython3",
   "version": "3.9.7"
  }
 },
 "nbformat": 4,
 "nbformat_minor": 5
}
