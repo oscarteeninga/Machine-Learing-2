{
 "cells": [
  {
   "cell_type": "markdown",
   "id": "ef1922eb",
   "metadata": {},
   "source": [
    "# Monty Hall Problem\n",
    "## Przykład wykorzystania sieć bayesowska do problemu z programu 'Monty Hall'\n",
    "### Program Monty Hall\n",
    "Uczestnik programu wybiera jedne z trzech drzwi - za tylko jedną jest nagroda. Prowadzący programu wybiera jedną z Gracz może pozostać przy swoim wyborze, bądź wybrać drugie drzwi. Nieintuicyjnie zawsze lepiej zmienić swój wybór i to spróbujemy sprawdzić za pomocą sieci bayesowkiej."
   ]
  },
  {
   "cell_type": "markdown",
   "id": "aab752b8",
   "metadata": {},
   "source": [
    "### Importy\n",
    "Korzystamy z biblioteki pgmpy"
   ]
  },
  {
   "cell_type": "code",
   "execution_count": 6,
   "id": "47309d14",
   "metadata": {},
   "outputs": [],
   "source": [
    "import pgmpy.models\n",
    "import pgmpy.inference\n",
    "import networkx as nx\n",
    "import pylab as plt"
   ]
  },
  {
   "cell_type": "markdown",
   "id": "26b2dac5",
   "metadata": {},
   "source": [
    "### Model\n",
    "Tworzymy sieć bayesowską - zakładamy, że prawdopodobieństwo nagrody w każdych drzwiach jest równe ~1/3. "
   ]
  },
  {
   "cell_type": "code",
   "execution_count": 11,
   "id": "2d5a5b96",
   "metadata": {},
   "outputs": [
    {
     "name": "stdout",
     "output_type": "stream",
     "text": [
      "Poprawność modelu:  Tak\n"
     ]
    }
   ],
   "source": [
    "model = pgmpy.models.BayesianNetwork([('Gość', 'Monty'), \n",
    "                                    ('Nagroda', 'Monty')])\n",
    "cpd_guest = pgmpy.factors.discrete.TabularCPD('Gość', 3, [[0.33], [0.33], [0.33]])\n",
    "cpd_price = pgmpy.factors.discrete.TabularCPD('Nagroda', 3, [[0.33], [0.33], [0.33]])\n",
    "cpd_monty = pgmpy.factors.discrete.TabularCPD('Monty', 3, [[0, 0, 0, 0, 0.5, 1, 0, 1, 0.5], \n",
    "                                                           [0.5, 0, 1, 0, 0, 0, 1, 0, 0.5], \n",
    "                                                           [0.5, 1, 0, 1, 0.5, 0, 0, 0, 0]], \n",
    "                                              evidence=['Gość', 'Nagroda'], \n",
    "                                              evidence_card=[3, 3])\n",
    "model.add_cpds(cpd_guest, cpd_price, cpd_monty)\n",
    "print(\"Poprawność modelu: \", \"Tak\" if model.check_model() else \"Nie\")"
   ]
  },
  {
   "cell_type": "markdown",
   "id": "16c3bd4a",
   "metadata": {},
   "source": [
    "### Tablice prawdopodobieństwa"
   ]
  },
  {
   "cell_type": "code",
   "execution_count": 16,
   "id": "88eca8c5",
   "metadata": {},
   "outputs": [
    {
     "name": "stdout",
     "output_type": "stream",
     "text": [
      "Prawdopodobieństwo wybrania przez gościa danych drzwi, P(Gość)\n",
      "+---------+------+\n",
      "| Gość(0) | 0.33 |\n",
      "+---------+------+\n",
      "| Gość(1) | 0.33 |\n",
      "+---------+------+\n",
      "| Gość(2) | 0.33 |\n",
      "+---------+------+\n",
      "\n",
      "Prawdopodobieństwo ukrycia nagrody za danymi drzwiami, P(Nagroda)\n",
      "+------------+------+\n",
      "| Nagroda(0) | 0.33 |\n",
      "+------------+------+\n",
      "| Nagroda(1) | 0.33 |\n",
      "+------------+------+\n",
      "| Nagroda(2) | 0.33 |\n",
      "+------------+------+\n",
      "\n",
      "Prawdopodobieństwo odsłonięcia przez Montyiego danych drzwi, jeżeli nagroda i wybór został dokonany, P(Monty | Gość, Nagroda)\n",
      "+----------+------------+-----+------------+------------+\n",
      "| Gość     | Gość(0)    | ... | Gość(2)    | Gość(2)    |\n",
      "+----------+------------+-----+------------+------------+\n",
      "| Nagroda  | Nagroda(0) | ... | Nagroda(1) | Nagroda(2) |\n",
      "+----------+------------+-----+------------+------------+\n",
      "| Monty(0) | 0.0        | ... | 1.0        | 0.5        |\n",
      "+----------+------------+-----+------------+------------+\n",
      "| Monty(1) | 0.5        | ... | 0.0        | 0.5        |\n",
      "+----------+------------+-----+------------+------------+\n",
      "| Monty(2) | 0.5        | ... | 0.0        | 0.0        |\n",
      "+----------+------------+-----+------------+------------+\n"
     ]
    }
   ],
   "source": [
    "print('Prawdopodobieństwo wybrania przez gościa danych drzwi, P(Gość)')\n",
    "print(cpd_guest)\n",
    "print()\n",
    "print('Prawdopodobieństwo ukrycia nagrody za danymi drzwiami, P(Nagroda)')\n",
    "print(cpd_price)\n",
    "print()\n",
    "print('Prawdopodobieństwo odsłonięcia przez Montyiego danych drzwi, jeżeli nagroda i wybór został dokonany, P(Monty | Gość, Nagroda)')\n",
    "print(cpd_monty)"
   ]
  },
  {
   "cell_type": "code",
   "execution_count": null,
   "id": "4ce4b19d",
   "metadata": {},
   "outputs": [],
   "source": [
    "### Test\n",
    "Chcemy sprawdzić jaka"
   ]
  },
  {
   "cell_type": "code",
   "execution_count": null,
   "id": "ce96c235",
   "metadata": {},
   "outputs": [],
   "source": [
    "\n",
    "infer = pgmpy.inference.VariableElimination(model)\n",
    "posterior_probability = infer.query(['Nagroda'], evidence={'Gość': 0, 'Monty': 2})\n",
    "print('Posterior probability, Guest(0) and Monty(2)')\n",
    "print(posterior_probability)\n",
    "print()"
   ]
  }
 ],
 "metadata": {
  "kernelspec": {
   "display_name": "env",
   "language": "python",
   "name": "env"
  },
  "language_info": {
   "codemirror_mode": {
    "name": "ipython",
    "version": 3
   },
   "file_extension": ".py",
   "mimetype": "text/x-python",
   "name": "python",
   "nbconvert_exporter": "python",
   "pygments_lexer": "ipython3",
   "version": "3.9.7"
  }
 },
 "nbformat": 4,
 "nbformat_minor": 5
}
