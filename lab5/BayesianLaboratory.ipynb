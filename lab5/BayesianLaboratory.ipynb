{
 "cells": [
  {
   "cell_type": "markdown",
   "source": [
    "# Gaussowski Naiwny Klasyfikator Bayesa"
   ],
   "metadata": {
    "collapsed": false
   }
  },
  {
   "cell_type": "code",
   "execution_count": 9,
   "outputs": [],
   "source": [
    "from sklearn.datasets import load_iris, load_wine\n",
    "from sklearn.model_selection import train_test_split\n",
    "import random\n",
    "import numpy as np\n",
    "from matplotlib import pyplot as plt\n",
    "from naive_bayes_classificator import naive_bayes, accuracy_metric\n",
    "from sklearn.preprocessing import StandardScaler\n",
    "from sklearn.decomposition import PCA\n",
    "plt.style.use('seaborn-whitegrid')"
   ],
   "metadata": {
    "collapsed": false,
    "pycharm": {
     "name": "#%%\n"
    }
   }
  },
  {
   "cell_type": "markdown",
   "source": [
    "## Implementacja\n",
    "Implementacja jest schowana w pliku naive_bayes_classificator.py dla przejrzystości notabooka."
   ],
   "metadata": {
    "collapsed": false,
    "pycharm": {
     "name": "#%% md\n"
    }
   }
  },
  {
   "cell_type": "code",
   "execution_count": 4,
   "outputs": [],
   "source": [
    "def naive_bayesian(X, y, tests, title):\n",
    "\taccuracy = 0\n",
    "\tfor i in range(0, tests):\n",
    "\t    X_train, X_test, y_train, y_test = train_test_split(X, y, test_size=0.4, random_state=random.randint(0, 100))\n",
    "\t    accuracy += accuracy_metric(naive_bayes(X_train, y_train, X_test, y_test), y_test)\n",
    "\tprint(\"\\n==== \"+ title + \" ====\")\n",
    "\tprint(\"Accuracy: \" + str(accuracy/tests))\n",
    "\tprint(\"====================\")"
   ],
   "metadata": {
    "collapsed": false,
    "pycharm": {
     "name": "#%%\n"
    }
   }
  },
  {
   "cell_type": "markdown",
   "source": [
    "## Testy na zbiorze Iris\n",
    "Przetestuj działanie własnej implementacji klasyfikatora dla zbioru danych Iris (4 cechy). Zastosuj losowy podział zbioru danych na część trenignową i testową według proporcji 0.6, 0.4. Powtórz eksperyment 20-krotnie i zmierz średni błąd klasyfikacji i jego odchylenie standardowe."
   ],
   "metadata": {
    "collapsed": false
   }
  },
  {
   "cell_type": "code",
   "execution_count": 3,
   "outputs": [
    {
     "name": "stdout",
     "output_type": "stream",
     "text": [
      "\n",
      "==== IRIS ====\n",
      "Accuracy: 95.20000000000002\n",
      "====================\n"
     ]
    }
   ],
   "source": [
    "X, y = load_iris(return_X_y=True)\n",
    "naive_bayesian(X, y, 100, \"Iris\")"
   ],
   "metadata": {
    "collapsed": false,
    "pycharm": {
     "name": "#%%\n"
    }
   }
  },
  {
   "cell_type": "markdown",
   "source": [
    "## Testy na zbiorze Wine\n",
    "Przeszedłem do testów na nowym zbiorze o większej liczbie cech"
   ],
   "metadata": {
    "collapsed": false,
    "pycharm": {
     "name": "#%% md\n"
    }
   }
  },
  {
   "cell_type": "markdown",
   "source": [
    "### Bez skalowania cech\n",
    "Pierwsza wersja testu odbywa się na niezmodyfikowanych danych"
   ],
   "metadata": {
    "collapsed": false,
    "pycharm": {
     "name": "#%% md\n"
    }
   }
  },
  {
   "cell_type": "code",
   "execution_count": 5,
   "outputs": [
    {
     "name": "stdout",
     "output_type": "stream",
     "text": [
      "\n",
      "==== IRIS ====\n",
      "Accuracy: 97.15277777777789\n",
      "====================\n"
     ]
    }
   ],
   "source": [
    "X, y = load_wine(return_X_y=True)\n",
    "naive_bayesian(X, y, 100, \"Wine STANDARD\")"
   ],
   "metadata": {
    "collapsed": false,
    "pycharm": {
     "name": "#%%\n"
    }
   }
  },
  {
   "cell_type": "markdown",
   "source": [
    "### Z standardowym skalowaniem cech\n",
    "Zastosowanie skalowania cech (średnia 0, odchylenie 1)"
   ],
   "metadata": {
    "collapsed": false
   }
  },
  {
   "cell_type": "code",
   "execution_count": 8,
   "outputs": [
    {
     "name": "stdout",
     "output_type": "stream",
     "text": [
      "\n",
      "==== IRIS Wine SCALAR====\n",
      "Accuracy: 97.20833333333348\n",
      "====================\n"
     ]
    }
   ],
   "source": [
    "X, y = load_wine(return_X_y=True)\n",
    "X_scalar = StandardScaler().fit_transform(X)\n",
    "naive_bayesian(X_scalar, y, 100, \"Wine SCALAR\")"
   ],
   "metadata": {
    "collapsed": false,
    "pycharm": {
     "name": "#%%\n"
    }
   }
  },
  {
   "cell_type": "markdown",
   "source": [
    "### Z skalowaniem PCA\n",
    "Zmiana liczby wymiarów do dwóch"
   ],
   "metadata": {
    "collapsed": false,
    "pycharm": {
     "name": "#%% md\n"
    }
   }
  },
  {
   "cell_type": "code",
   "execution_count": 7,
   "outputs": [
    {
     "name": "stdout",
     "output_type": "stream",
     "text": [
      "\n",
      "==== IRIS Wine PCA====\n",
      "Accuracy: 96.00000000000007\n",
      "====================\n"
     ]
    }
   ],
   "source": [
    "X, y = load_wine(return_X_y=True)\n",
    "X_scalar = StandardScaler().fit_transform(X)\n",
    "X_pca = PCA(n_components=2).fit_transform(X_scalar)\n",
    "naive_bayesian(X_pca, y, 100, \"Wine PCA\")"
   ],
   "metadata": {
    "collapsed": false,
    "pycharm": {
     "name": "#%%\n"
    }
   }
  },
  {
   "cell_type": "markdown",
   "source": [
    "# Liniowa Regresja Bayesowska online"
   ],
   "metadata": {
    "collapsed": false,
    "pycharm": {
     "name": "#%% md\n"
    }
   }
  },
  {
   "cell_type": "markdown",
   "source": [
    "## Generowanie sztucznego zbioru\n",
    "Wygeneruj sztuczny zbiór danych w 2D (10 punktów z przedziału [−1, 1]) zgodnie ze wzorem t = −0.2 + 0.6x + ε, gdzie ε jest szumem Gaussowskim o średniej 0 i odchyleniu standardowym 0.2."
   ],
   "metadata": {
    "collapsed": false,
    "pycharm": {
     "name": "#%% md\n"
    }
   }
  },
  {
   "cell_type": "code",
   "execution_count": 13,
   "outputs": [
    {
     "data": {
      "text/plain": "<matplotlib.collections.PathCollection at 0x13ca5b940>"
     },
     "execution_count": 13,
     "metadata": {},
     "output_type": "execute_result"
    },
    {
     "data": {
      "text/plain": "<Figure size 432x288 with 1 Axes>",
      "image/png": "[encoded data removed]"
     },
     "metadata": {},
     "output_type": "display_data"
    }
   ],
   "source": [
    "def generate_points_with_noise(size):\n",
    "    pure = np.linspace(-1, 1, size)\n",
    "    noise = np.random.normal(0, 0.2, size)\n",
    "    return [[pure[p], -0.2 + 0.6 * pure[p] + noise[p]] for p in range(len(pure))]\n",
    "\n",
    "Xy = list(zip(*generate_points_with_noise(100)))\n",
    "plt.scatter(Xy[0], Xy[1])"
   ],
   "metadata": {
    "collapsed": false,
    "pycharm": {
     "name": "#%%\n"
    }
   }
  }
 ],
 "metadata": {
  "kernelspec": {
   "display_name": "Python 3",
   "language": "python",
   "name": "python3"
  },
  "language_info": {
   "codemirror_mode": {
    "name": "ipython",
    "version": 2
   },
   "file_extension": ".py",
   "mimetype": "text/x-python",
   "name": "python",
   "nbconvert_exporter": "python",
   "pygments_lexer": "ipython2",
   "version": "2.7.6"
  }
 },
 "nbformat": 4,
 "nbformat_minor": 0
}